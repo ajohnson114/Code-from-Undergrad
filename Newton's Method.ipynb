{
 "cells": [
  {
   "cell_type": "code",
   "execution_count": 48,
   "metadata": {},
   "outputs": [],
   "source": [
    "import numpy as np\n",
    "import math \n",
    "import matplotlib.pyplot as plt"
   ]
  },
  {
   "cell_type": "code",
   "execution_count": 2,
   "metadata": {},
   "outputs": [],
   "source": [
    "def f(x,y):\n",
    "    \"Returns cos(x^2+y^2) as a float\"\n",
    "    return math.cos(x**2+y**2)"
   ]
  },
  {
   "cell_type": "code",
   "execution_count": 87,
   "metadata": {},
   "outputs": [],
   "source": [
    "def norm(x):\n",
    "    \"Input a vector and this returns the Euclidean/L2 norm\"\n",
    "    return math.sqrt(np.sum(np.power(grad(x[0],x[1]),2)))"
   ]
  },
  {
   "cell_type": "code",
   "execution_count": 3,
   "metadata": {},
   "outputs": [],
   "source": [
    "def grad(x,y):\n",
    "    \"Returns Gradient of cos(x^2+y^2) at the point (x,y) \"\n",
    "    xs = x**2\n",
    "    ys = y**2\n",
    "    return np.array([-math.sin(xs+ys)*2*x, -math.sin(xs+ys)*2*y])"
   ]
  },
  {
   "cell_type": "code",
   "execution_count": 4,
   "metadata": {},
   "outputs": [],
   "source": [
    "def hess(x,y):\n",
    "    \"Returns Hessian of cos(x^2+y^2) at the point (x,y)\"\n",
    "    xs = x**2\n",
    "    ys = y**2\n",
    "    fxx = (-math.cos(xs + ys)*4*xs) + (2*(-math.sin(xs+ys)))\n",
    "    fyy = (-math.cos(xs + ys)*4*ys) + (2*(-math.sin(xs+ys)))\n",
    "    fxy = 4*x*y*-math.cos(xs+ys)\n",
    "    return np.array([[fxx, fxy],[fxy, fyy]])"
   ]
  },
  {
   "cell_type": "code",
   "execution_count": 68,
   "metadata": {},
   "outputs": [],
   "source": [
    "def newtons_method(x0, n):\n",
    "    \"\"\" Used for finding optimal values \n",
    "    Input: x0 = first guess (x,y) (numpy array), n = number of iterations (scalar)\n",
    "    Output: numpy array of optimal values\n",
    "    \"\"\"\n",
    "    #loss: cos(x^2+y^2)\n",
    "    loss = []\n",
    "    #position: just the values of x and y\n",
    "    position = []\n",
    "    #norms: Euclidean norm of the gradient\n",
    "    norms = []\n",
    "    \n",
    "    loss.append(f(x0[0],x0[1]))\n",
    "    position.append(x0)\n",
    "    norms.append(norm(x0))\n",
    "    \n",
    "    xprev = x0\n",
    "    x,y = xprev[0], xprev[1]\n",
    "    for i in range(n):\n",
    "        x1  = xprev - np.dot(grad(x,y), np.linalg.inv(hess(x,y)))\n",
    "        xprev = x1\n",
    "        x,y = xprev[0], xprev[1]\n",
    "        loss.append(f(x1[0],x1[1]))\n",
    "        position.append(x1)\n",
    "        norms.append(norm(x1))\n",
    "\n",
    "    print(\"losses are: \", loss)\n",
    "    print(\"positions are: \", position)\n",
    "    print(\"grad norms are: \",norms)\n",
    "    return x1, loss, norms"
   ]
  },
  {
   "cell_type": "code",
   "execution_count": 100,
   "metadata": {},
   "outputs": [],
   "source": [
    "x0 = np.array([(math.pi/2)-(1e-1),(math.pi/2)-(1e-1)])"
   ]
  },
  {
   "cell_type": "code",
   "execution_count": 101,
   "metadata": {},
   "outputs": [
    {
     "name": "stdout",
     "output_type": "stream",
     "text": [
      "losses are:  [-0.37639802313737775, -0.868215370251345]\n",
      "positions are:  [array([1.47079633, 1.47079633]), array([1.14507436, 1.14507436])]\n",
      "grad norms are:  [3.8541027773400267, 1.6070320320043747]\n"
     ]
    },
    {
     "data": {
      "text/plain": [
       "[<matplotlib.lines.Line2D at 0x1731f5eb0c8>]"
      ]
     },
     "execution_count": 101,
     "metadata": {},
     "output_type": "execute_result"
    },
    {
     "data": {
      "image/png": "[encoded data removed]",
      "text/plain": [
       "<Figure size 432x288 with 1 Axes>"
      ]
     },
     "metadata": {
      "needs_background": "light"
     },
     "output_type": "display_data"
    }
   ],
   "source": [
    "x, losses,norms = newtons_method(x0, 1)\n",
    "f(x[0],x[1])\n",
    "plt.plot(list(range(len(losses))), losses)\n",
    "plt.plot(list(range(len(norms))), norms)"
   ]
  },
  {
   "cell_type": "code",
   "execution_count": 102,
   "metadata": {},
   "outputs": [
    {
     "name": "stdout",
     "output_type": "stream",
     "text": [
      "losses are:  [-0.37639802313737775, -0.868215370251345, -0.9870017861134855]\n",
      "positions are:  [array([1.47079633, 1.47079633]), array([1.14507436, 1.14507436]), array([1.28510737, 1.28510737])]\n",
      "grad norms are:  [3.8541027773400267, 1.6070320320043747, 0.5841513370013626]\n"
     ]
    },
    {
     "data": {
      "text/plain": [
       "[<matplotlib.lines.Line2D at 0x1731f68ae08>]"
      ]
     },
     "execution_count": 102,
     "metadata": {},
     "output_type": "execute_result"
    },
    {
     "data": {
      "image/png": "[encoded data removed]",
      "text/plain": [
       "<Figure size 432x288 with 1 Axes>"
      ]
     },
     "metadata": {
      "needs_background": "light"
     },
     "output_type": "display_data"
    }
   ],
   "source": [
    "x, losses,norms = newtons_method(x0, 2)\n",
    "f(x[0],x[1])\n",
    "plt.plot(list(range(len(losses))), losses)\n",
    "plt.plot(list(range(len(norms))), norms)"
   ]
  },
  {
   "cell_type": "code",
   "execution_count": 96,
   "metadata": {},
   "outputs": [
    {
     "name": "stdout",
     "output_type": "stream",
     "text": [
      "losses are:  [-0.37639802313737775, -0.868215370251345, -0.9870017861134855, -0.9999902688510479]\n",
      "positions are:  [array([1.47079633, 1.47079633]), array([1.14507436, 1.14507436]), array([1.28510737, 1.28510737]), array([1.25419382, 1.25419382])]\n",
      "grad norms are:  [3.8541027773400267, 1.6070320320043747, 0.5841513370013626, 0.01564968681261813]\n"
     ]
    },
    {
     "data": {
      "text/plain": [
       "[<matplotlib.lines.Line2D at 0x1731f4656c8>]"
      ]
     },
     "execution_count": 96,
     "metadata": {},
     "output_type": "execute_result"
    },
    {
     "data": {
      "image/png": "[encoded data removed]",
      "text/plain": [
       "<Figure size 432x288 with 1 Axes>"
      ]
     },
     "metadata": {
      "needs_background": "light"
     },
     "output_type": "display_data"
    }
   ],
   "source": [
    "x, losses,norms = newtons_method(x0, 3)\n",
    "f(x[0],x[1])\n",
    "#plt.plot(list(range(len(losses))), losses)\n",
    "plt.plot(list(range(len(norms))), norms)"
   ]
  },
  {
   "cell_type": "code",
   "execution_count": 97,
   "metadata": {},
   "outputs": [
    {
     "data": {
      "text/plain": [
       "[<matplotlib.lines.Line2D at 0x1731f4d2a08>]"
      ]
     },
     "execution_count": 97,
     "metadata": {},
     "output_type": "execute_result"
    },
    {
     "data": {
      "image/png": "[encoded data removed]",
      "text/plain": [
       "<Figure size 432x288 with 1 Axes>"
      ]
     },
     "metadata": {
      "needs_background": "light"
     },
     "output_type": "display_data"
    }
   ],
   "source": [
    "plt.plot(list(range(len(norms))), norms)"
   ]
  },
  {
   "cell_type": "code",
   "execution_count": 92,
   "metadata": {},
   "outputs": [
    {
     "name": "stdout",
     "output_type": "stream",
     "text": [
      "losses are:  [-0.37639802313737775, -0.868215370251345, -0.9870017861134855, -0.9999902688510479, -0.9999999999893884, -1.0, -1.0, -1.0, -1.0, -1.0, -1.0]\n",
      "positions are:  [array([1.47079633, 1.47079633]), array([1.14507436, 1.14507436]), array([1.28510737, 1.28510737]), array([1.25419382, 1.25419382]), array([1.25331506, 1.25331506]), array([1.25331414, 1.25331414]), array([1.25331414, 1.25331414]), array([1.25331414, 1.25331414]), array([1.25331414, 1.25331414]), array([1.25331414, 1.25331414]), array([1.25331414, 1.25331414])]\n",
      "grad norms are:  [3.8541027773400267, 1.6070320320043747, 0.5841513370013626, 0.01564968681261813, 1.6330974673430057e-05, 1.7960244138660804e-11, 1.1401292732590946e-15, 4.34125987029568e-16, 2.7143845335477573e-15, 4.34125987029568e-16, 2.7143845335477573e-15]\n"
     ]
    },
    {
     "data": {
      "text/plain": [
       "[<matplotlib.lines.Line2D at 0x1731f2b81c8>]"
      ]
     },
     "execution_count": 92,
     "metadata": {},
     "output_type": "execute_result"
    },
    {
     "data": {
      "image/png": "[encoded data removed]",
      "text/plain": [
       "<Figure size 432x288 with 1 Axes>"
      ]
     },
     "metadata": {
      "needs_background": "light"
     },
     "output_type": "display_data"
    }
   ],
   "source": [
    "x, losses,norms = newtons_method(x0, 10)\n",
    "f(x[0],x[1])\n",
    "plt.plot(list(range(len(losses))), losses)"
   ]
  },
  {
   "cell_type": "code",
   "execution_count": 93,
   "metadata": {},
   "outputs": [
    {
     "data": {
      "text/plain": [
       "[<matplotlib.lines.Line2D at 0x1731f31bbc8>]"
      ]
     },
     "execution_count": 93,
     "metadata": {},
     "output_type": "execute_result"
    },
    {
     "data": {
      "image/png": "[encoded data removed]",
      "text/plain": [
       "<Figure size 432x288 with 1 Axes>"
      ]
     },
     "metadata": {
      "needs_background": "light"
     },
     "output_type": "display_data"
    }
   ],
   "source": [
    "plt.plot(list(range(len(norms))), norms)"
   ]
  },
  {
   "cell_type": "code",
   "execution_count": 20,
   "metadata": {},
   "outputs": [
    {
     "data": {
      "text/plain": [
       "1.0"
      ]
     },
     "execution_count": 20,
     "metadata": {},
     "output_type": "execute_result"
    }
   ],
   "source": [
    "x, losses,norms = newtons_method(x0, 1000)\n",
    "f(x[0],x[1])"
   ]
  },
  {
   "cell_type": "code",
   "execution_count": null,
   "metadata": {},
   "outputs": [],
   "source": [
    "y = loss fcn x = iterations\n",
    "y = grad_norm x = iteration "
   ]
  },
  {
   "cell_type": "code",
   "execution_count": 12,
   "metadata": {},
   "outputs": [],
   "source": [
    "def ftest(x,y):\n",
    "    \"Returns x^4+y^4\"\n",
    "    return x**4+y**4"
   ]
  },
  {
   "cell_type": "code",
   "execution_count": 13,
   "metadata": {},
   "outputs": [],
   "source": [
    "def gradtest(x,y):\n",
    "    \"Returns Gradient of cos(x^2+y^2) at the point (x,y)\"\n",
    "    return np.array([4*(x**3), 4*(y**3)])"
   ]
  },
  {
   "cell_type": "code",
   "execution_count": 14,
   "metadata": {},
   "outputs": [],
   "source": [
    "def hesstest(x,y):\n",
    "    \"Returns Hessian of cos(x^2+y^2) at the point (x,y)\"\n",
    "    fxx = 12*(x**2)\n",
    "    fyy = 12*(y**2)\n",
    "    fxy = 0\n",
    "    return np.array([[fxx, fxy],[fxy, fyy]])"
   ]
  },
  {
   "cell_type": "code",
   "execution_count": 15,
   "metadata": {},
   "outputs": [],
   "source": [
    "def test_newtons_method(x0, n):\n",
    "    \"\"\" Used for finding optimal values \n",
    "    Input: x0 = first guess (x,y) (numpy array), n = number of iterations (scalar)\n",
    "    Output: numpy array of optimal values\n",
    "    ***Same code as the function above but with a different function, gradient, and hessian to see if im optimizing***\n",
    "    \"\"\"\n",
    "    xprev = x0\n",
    "    x,y = xprev[0], xprev[1]\n",
    "    for i in range(n):\n",
    "        x1  = xprev - np.dot(gradtest(x,y), np.linalg.inv(hesstest(x,y)))\n",
    "        xprev = x1\n",
    "        x,y = xprev[0], xprev[1]\n",
    "    \n",
    "    return x1"
   ]
  },
  {
   "cell_type": "code",
   "execution_count": 36,
   "metadata": {},
   "outputs": [],
   "source": [
    "xtest = [10,10]"
   ]
  },
  {
   "cell_type": "code",
   "execution_count": 37,
   "metadata": {},
   "outputs": [
    {
     "data": {
      "text/plain": [
       "array([6.66666667, 6.66666667])"
      ]
     },
     "execution_count": 37,
     "metadata": {},
     "output_type": "execute_result"
    }
   ],
   "source": [
    "test_newtons_method(xtest, 1)"
   ]
  },
  {
   "cell_type": "code",
   "execution_count": 38,
   "metadata": {},
   "outputs": [
    {
     "data": {
      "text/plain": [
       "array([0.1734153, 0.1734153])"
      ]
     },
     "execution_count": 38,
     "metadata": {},
     "output_type": "execute_result"
    }
   ],
   "source": [
    "test_newtons_method(xtest, 10)"
   ]
  },
  {
   "cell_type": "code",
   "execution_count": 39,
   "metadata": {},
   "outputs": [
    {
     "data": {
      "text/plain": [
       "array([2.45965443e-17, 2.45965443e-17])"
      ]
     },
     "execution_count": 39,
     "metadata": {},
     "output_type": "execute_result"
    }
   ],
   "source": [
    "test_newtons_method(xtest, 100)"
   ]
  },
  {
   "cell_type": "code",
   "execution_count": 40,
   "metadata": {},
   "outputs": [
    {
     "data": {
      "text/plain": [
       "array([9.55632926e-109, 9.55632926e-109])"
      ]
     },
     "execution_count": 40,
     "metadata": {},
     "output_type": "execute_result"
    }
   ],
   "source": [
    "test_newtons_method(xtest, 1000)"
   ]
  },
  {
   "cell_type": "code",
   "execution_count": null,
   "metadata": {},
   "outputs": [],
   "source": []
  }
 ],
 "metadata": {
  "kernelspec": {
   "display_name": "Python 3",
   "language": "python",
   "name": "python3"
  },
  "language_info": {
   "codemirror_mode": {
    "name": "ipython",
    "version": 3
   },
   "file_extension": ".py",
   "mimetype": "text/x-python",
   "name": "python",
   "nbconvert_exporter": "python",
   "pygments_lexer": "ipython3",
   "version": "3.7.6"
  }
 },
 "nbformat": 4,
 "nbformat_minor": 4
}
