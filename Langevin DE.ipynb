{
 "cells": [
  {
   "cell_type": "markdown",
   "metadata": {},
   "source": [
    "I)  Describe the Langevin stochastic process, show your python implementation, plot the autocorrelation function versus time, determine the integrated autocorrelation time (and show that it agrees with expectation;  see my Langevin.pdf note where I give a formula for the diffusion constant D which you can easily relate to tau_c)\n",
    "\n",
    "II) Obtain the S&P500 data over the course of a day sampled *at the level of minutes*.  Plot the autocorrelation function (a plot like in fig. 7.3 in the book) and determine the integrated autocorrelation time."
   ]
  },
  {
   "cell_type": "code",
   "execution_count": 28,
   "metadata": {},
   "outputs": [],
   "source": [
    "import numpy as np\n",
    "import math\n",
    "import copy\n",
    "import matplotlib.pyplot as plt"
   ]
  },
  {
   "cell_type": "code",
   "execution_count": null,
   "metadata": {},
   "outputs": [],
   "source": [
    "print(np.random.normal())"
   ]
  },
  {
   "cell_type": "code",
   "execution_count": 2,
   "metadata": {},
   "outputs": [],
   "source": [
    "B = 2.0\n",
    "gamma = .8\n",
    "N = 20000\n",
    "T = 10\n",
    "dt = T/N\n",
    "particles = 10000\n",
    "sd = math.sqrt(B**2/(2*gamma))\n",
    "v0 = np.random.normal(0,sd,size=particles)\n",
    "vt = copy.deepcopy(v0)\n",
    "\n",
    "def v(i, vt):\n",
    "    dv = B*math.sqrt(dt)*np.random.normal(0,1,size=particles) - gamma*vt*dt\n",
    "    vt += dv\n",
    "    return vt\n",
    "\n",
    "D = np.linspace(0,T,N)\n",
    "corr = np.linspace(0,T,N)\n",
    "for i in range(N):\n",
    "    vt = v(i, vt)\n",
    "    D[i] = np.mean(vt*v0)*dt\n",
    "    corr[i] = np.mean(vt*v0)/((B**2)/(2*gamma))\n",
    "\n",
    "\n",
    "#for i in range(N):\n",
    "    #vt = v(vt)\n",
    "    #corr[i] = np.mean(vt*v0)/((B**2)/(2*gamma))"
   ]
  },
  {
   "cell_type": "code",
   "execution_count": 3,
   "metadata": {},
   "outputs": [
    {
     "data": {
      "text/plain": [
       "3.084037557947977"
      ]
     },
     "execution_count": 3,
     "metadata": {},
     "output_type": "execute_result"
    }
   ],
   "source": [
    "np.sum(D)"
   ]
  },
  {
   "cell_type": "code",
   "execution_count": 5,
   "metadata": {},
   "outputs": [
    {
     "data": {
      "text/plain": [
       "3.1249999999999996"
      ]
     },
     "execution_count": 5,
     "metadata": {},
     "output_type": "execute_result"
    }
   ],
   "source": [
    "(B**2)/(2*(gamma**2))"
   ]
  },
  {
   "cell_type": "code",
   "execution_count": 8,
   "metadata": {},
   "outputs": [
    {
     "data": {
      "image/png": "[encoded data removed]",
      "text/plain": [
       "<Figure size 432x288 with 1 Axes>"
      ]
     },
     "metadata": {
      "needs_background": "light"
     },
     "output_type": "display_data"
    }
   ],
   "source": [
    "plt.plot(D)\n",
    "plt.show()"
   ]
  },
  {
   "cell_type": "code",
   "execution_count": 9,
   "metadata": {},
   "outputs": [
    {
     "data": {
      "image/png": "[encoded data removed]",
      "text/plain": [
       "<Figure size 432x288 with 1 Axes>"
      ]
     },
     "metadata": {
      "needs_background": "light"
     },
     "output_type": "display_data"
    }
   ],
   "source": [
    "plt.plot(corr)\n",
    "plt.show()"
   ]
  },
  {
   "cell_type": "code",
   "execution_count": 29,
   "metadata": {},
   "outputs": [],
   "source": [
    "import pandas as pd"
   ]
  },
  {
   "cell_type": "code",
   "execution_count": 45,
   "metadata": {},
   "outputs": [],
   "source": [
    "df = pd.read_excel(\"S&P_data1_minute.xlsx\")"
   ]
  },
  {
   "cell_type": "code",
   "execution_count": 46,
   "metadata": {},
   "outputs": [
    {
     "data": {
      "text/html": [
       "<div>\n",
       "<style scoped>\n",
       "    .dataframe tbody tr th:only-of-type {\n",
       "        vertical-align: middle;\n",
       "    }\n",
       "\n",
       "    .dataframe tbody tr th {\n",
       "        vertical-align: top;\n",
       "    }\n",
       "\n",
       "    .dataframe thead th {\n",
       "        text-align: right;\n",
       "    }\n",
       "</style>\n",
       "<table border=\"1\" class=\"dataframe\">\n",
       "  <thead>\n",
       "    <tr style=\"text-align: right;\">\n",
       "      <th></th>\n",
       "      <th>Date</th>\n",
       "      <th>Time</th>\n",
       "      <th>Open</th>\n",
       "      <th>High</th>\n",
       "      <th>Low</th>\n",
       "      <th>Close</th>\n",
       "    </tr>\n",
       "  </thead>\n",
       "  <tbody>\n",
       "    <tr>\n",
       "      <th>0</th>\n",
       "      <td>2021-01-04</td>\n",
       "      <td>09:30:00</td>\n",
       "      <td>3764.61</td>\n",
       "      <td>3769.99</td>\n",
       "      <td>3764.61</td>\n",
       "      <td>3766.63</td>\n",
       "    </tr>\n",
       "    <tr>\n",
       "      <th>1</th>\n",
       "      <td>2021-01-04</td>\n",
       "      <td>09:31:00</td>\n",
       "      <td>3766.41</td>\n",
       "      <td>3767.22</td>\n",
       "      <td>3765.83</td>\n",
       "      <td>3766.13</td>\n",
       "    </tr>\n",
       "    <tr>\n",
       "      <th>2</th>\n",
       "      <td>2021-01-04</td>\n",
       "      <td>09:32:00</td>\n",
       "      <td>3765.93</td>\n",
       "      <td>3765.93</td>\n",
       "      <td>3763.09</td>\n",
       "      <td>3763.09</td>\n",
       "    </tr>\n",
       "    <tr>\n",
       "      <th>3</th>\n",
       "      <td>2021-01-04</td>\n",
       "      <td>09:33:00</td>\n",
       "      <td>3762.91</td>\n",
       "      <td>3762.91</td>\n",
       "      <td>3760.55</td>\n",
       "      <td>3760.99</td>\n",
       "    </tr>\n",
       "    <tr>\n",
       "      <th>4</th>\n",
       "      <td>2021-01-04</td>\n",
       "      <td>09:34:00</td>\n",
       "      <td>3761.13</td>\n",
       "      <td>3761.68</td>\n",
       "      <td>3759.62</td>\n",
       "      <td>3759.80</td>\n",
       "    </tr>\n",
       "  </tbody>\n",
       "</table>\n",
       "</div>"
      ],
      "text/plain": [
       "        Date      Time     Open     High      Low    Close\n",
       "0 2021-01-04  09:30:00  3764.61  3769.99  3764.61  3766.63\n",
       "1 2021-01-04  09:31:00  3766.41  3767.22  3765.83  3766.13\n",
       "2 2021-01-04  09:32:00  3765.93  3765.93  3763.09  3763.09\n",
       "3 2021-01-04  09:33:00  3762.91  3762.91  3760.55  3760.99\n",
       "4 2021-01-04  09:34:00  3761.13  3761.68  3759.62  3759.80"
      ]
     },
     "execution_count": 46,
     "metadata": {},
     "output_type": "execute_result"
    }
   ],
   "source": [
    "#showing a summary of what our data looks like\n",
    "df.head()"
   ]
  },
  {
   "cell_type": "code",
   "execution_count": 47,
   "metadata": {},
   "outputs": [
    {
     "data": {
      "text/plain": [
       "Index(['Date', 'Time', 'Open', 'High', 'Low', 'Close'], dtype='object')"
      ]
     },
     "execution_count": 47,
     "metadata": {},
     "output_type": "execute_result"
    }
   ],
   "source": [
    "df.columns"
   ]
  },
  {
   "cell_type": "code",
   "execution_count": 48,
   "metadata": {},
   "outputs": [
    {
     "data": {
      "text/html": [
       "<div>\n",
       "<style scoped>\n",
       "    .dataframe tbody tr th:only-of-type {\n",
       "        vertical-align: middle;\n",
       "    }\n",
       "\n",
       "    .dataframe tbody tr th {\n",
       "        vertical-align: top;\n",
       "    }\n",
       "\n",
       "    .dataframe thead th {\n",
       "        text-align: right;\n",
       "    }\n",
       "</style>\n",
       "<table border=\"1\" class=\"dataframe\">\n",
       "  <thead>\n",
       "    <tr style=\"text-align: right;\">\n",
       "      <th></th>\n",
       "      <th>Date</th>\n",
       "      <th>Time</th>\n",
       "      <th>Open</th>\n",
       "      <th>High</th>\n",
       "      <th>Low</th>\n",
       "      <th>Close</th>\n",
       "    </tr>\n",
       "  </thead>\n",
       "  <tbody>\n",
       "    <tr>\n",
       "      <th>1188</th>\n",
       "      <td>2021-01-07</td>\n",
       "      <td>09:30:00</td>\n",
       "      <td>3764.71</td>\n",
       "      <td>3775.35</td>\n",
       "      <td>3764.71</td>\n",
       "      <td>3774.91</td>\n",
       "    </tr>\n",
       "    <tr>\n",
       "      <th>1189</th>\n",
       "      <td>2021-01-07</td>\n",
       "      <td>09:31:00</td>\n",
       "      <td>3774.98</td>\n",
       "      <td>3777.14</td>\n",
       "      <td>3774.98</td>\n",
       "      <td>3776.77</td>\n",
       "    </tr>\n",
       "    <tr>\n",
       "      <th>1190</th>\n",
       "      <td>2021-01-07</td>\n",
       "      <td>09:32:00</td>\n",
       "      <td>3776.90</td>\n",
       "      <td>3780.02</td>\n",
       "      <td>3776.90</td>\n",
       "      <td>3779.47</td>\n",
       "    </tr>\n",
       "    <tr>\n",
       "      <th>1191</th>\n",
       "      <td>2021-01-07</td>\n",
       "      <td>09:33:00</td>\n",
       "      <td>3779.62</td>\n",
       "      <td>3782.72</td>\n",
       "      <td>3779.62</td>\n",
       "      <td>3780.82</td>\n",
       "    </tr>\n",
       "    <tr>\n",
       "      <th>1192</th>\n",
       "      <td>2021-01-07</td>\n",
       "      <td>09:34:00</td>\n",
       "      <td>3780.48</td>\n",
       "      <td>3781.43</td>\n",
       "      <td>3778.56</td>\n",
       "      <td>3778.56</td>\n",
       "    </tr>\n",
       "    <tr>\n",
       "      <th>...</th>\n",
       "      <td>...</td>\n",
       "      <td>...</td>\n",
       "      <td>...</td>\n",
       "      <td>...</td>\n",
       "      <td>...</td>\n",
       "      <td>...</td>\n",
       "    </tr>\n",
       "    <tr>\n",
       "      <th>1579</th>\n",
       "      <td>2021-01-07</td>\n",
       "      <td>16:01:00</td>\n",
       "      <td>3803.79</td>\n",
       "      <td>3803.79</td>\n",
       "      <td>3803.79</td>\n",
       "      <td>3803.79</td>\n",
       "    </tr>\n",
       "    <tr>\n",
       "      <th>1580</th>\n",
       "      <td>2021-01-07</td>\n",
       "      <td>16:02:00</td>\n",
       "      <td>3803.79</td>\n",
       "      <td>3803.79</td>\n",
       "      <td>3803.79</td>\n",
       "      <td>3803.79</td>\n",
       "    </tr>\n",
       "    <tr>\n",
       "      <th>1581</th>\n",
       "      <td>2021-01-07</td>\n",
       "      <td>16:03:00</td>\n",
       "      <td>3803.79</td>\n",
       "      <td>3803.79</td>\n",
       "      <td>3803.79</td>\n",
       "      <td>3803.79</td>\n",
       "    </tr>\n",
       "    <tr>\n",
       "      <th>1582</th>\n",
       "      <td>2021-01-07</td>\n",
       "      <td>16:04:00</td>\n",
       "      <td>3803.79</td>\n",
       "      <td>3803.79</td>\n",
       "      <td>3803.79</td>\n",
       "      <td>3803.79</td>\n",
       "    </tr>\n",
       "    <tr>\n",
       "      <th>1583</th>\n",
       "      <td>2021-01-07</td>\n",
       "      <td>16:05:00</td>\n",
       "      <td>3803.79</td>\n",
       "      <td>3803.79</td>\n",
       "      <td>3803.79</td>\n",
       "      <td>3803.79</td>\n",
       "    </tr>\n",
       "  </tbody>\n",
       "</table>\n",
       "<p>396 rows × 6 columns</p>\n",
       "</div>"
      ],
      "text/plain": [
       "           Date      Time     Open     High      Low    Close\n",
       "1188 2021-01-07  09:30:00  3764.71  3775.35  3764.71  3774.91\n",
       "1189 2021-01-07  09:31:00  3774.98  3777.14  3774.98  3776.77\n",
       "1190 2021-01-07  09:32:00  3776.90  3780.02  3776.90  3779.47\n",
       "1191 2021-01-07  09:33:00  3779.62  3782.72  3779.62  3780.82\n",
       "1192 2021-01-07  09:34:00  3780.48  3781.43  3778.56  3778.56\n",
       "...         ...       ...      ...      ...      ...      ...\n",
       "1579 2021-01-07  16:01:00  3803.79  3803.79  3803.79  3803.79\n",
       "1580 2021-01-07  16:02:00  3803.79  3803.79  3803.79  3803.79\n",
       "1581 2021-01-07  16:03:00  3803.79  3803.79  3803.79  3803.79\n",
       "1582 2021-01-07  16:04:00  3803.79  3803.79  3803.79  3803.79\n",
       "1583 2021-01-07  16:05:00  3803.79  3803.79  3803.79  3803.79\n",
       "\n",
       "[396 rows x 6 columns]"
      ]
     },
     "execution_count": 48,
     "metadata": {},
     "output_type": "execute_result"
    }
   ],
   "source": [
    "#Choosing a date to work with\n",
    "df = df[df[\"Date\"] == \"1/7/2021\"]\n",
    "df"
   ]
  },
  {
   "cell_type": "code",
   "execution_count": 49,
   "metadata": {},
   "outputs": [
    {
     "data": {
      "text/plain": [
       "Open     3801.089848\n",
       "High     3801.677551\n",
       "Low      3800.621894\n",
       "Close    3801.182980\n",
       "dtype: float64"
      ]
     },
     "execution_count": 49,
     "metadata": {},
     "output_type": "execute_result"
    }
   ],
   "source": [
    "#Averages for all the columns\n",
    "df.mean()"
   ]
  },
  {
   "cell_type": "code",
   "execution_count": 50,
   "metadata": {},
   "outputs": [],
   "source": [
    "close = df[[\"Time\",\"Close\"]]\n",
    "open_price = df[[\"Time\",\"Open\"]]"
   ]
  },
  {
   "cell_type": "code",
   "execution_count": 51,
   "metadata": {},
   "outputs": [
    {
     "data": {
      "image/png": "[encoded data removed]",
      "text/plain": [
       "<Figure size 432x288 with 1 Axes>"
      ]
     },
     "metadata": {
      "needs_background": "light"
     },
     "output_type": "display_data"
    }
   ],
   "source": [
    "plt.plot(np.arange(0,396),df['Close'])\n",
    "plt.plot(np.mean(df[\"Close\"]))\n",
    "plt.show()"
   ]
  },
  {
   "cell_type": "code",
   "execution_count": 52,
   "metadata": {},
   "outputs": [
    {
     "data": {
      "image/png": "[encoded data removed]",
      "text/plain": [
       "<Figure size 432x288 with 1 Axes>"
      ]
     },
     "metadata": {
      "needs_background": "light"
     },
     "output_type": "display_data"
    }
   ],
   "source": [
    "plt.plot(np.arange(0,396),df['Open'])\n",
    "plt.plot(np.mean(df[\"Open\"]))\n",
    "plt.show()"
   ]
  },
  {
   "cell_type": "code",
   "execution_count": 37,
   "metadata": {},
   "outputs": [],
   "source": [
    "def autocorr(tao,data,mean):\n",
    "    top, bottom = 0,0\n",
    "    for i in range(150-tao):\n",
    "        top += (data[i] - mean)*(data[i+tao] - mean)\n",
    "    for i in range(150):\n",
    "        bottom += (data[i] - mean)**2\n",
    "    return top/bottom"
   ]
  },
  {
   "cell_type": "code",
   "execution_count": 53,
   "metadata": {},
   "outputs": [],
   "source": [
    "open_price = np.array(df[\"Open\"])\n",
    "open_price_mean = np.mean(open_price)"
   ]
  },
  {
   "cell_type": "code",
   "execution_count": 54,
   "metadata": {},
   "outputs": [
    {
     "data": {
      "text/plain": [
       "[<matplotlib.lines.Line2D at 0x266c385e108>]"
      ]
     },
     "execution_count": 54,
     "metadata": {},
     "output_type": "execute_result"
    },
    {
     "data": {
      "image/png": "[encoded data removed]",
      "text/plain": [
       "<Figure size 432x288 with 1 Axes>"
      ]
     },
     "metadata": {
      "needs_background": "light"
     },
     "output_type": "display_data"
    }
   ],
   "source": [
    "autocorr_open = []\n",
    "for i in range(150):\n",
    "    autocorr_open.append(autocorr(i,open_price,open_price_mean))\n",
    "autocorr_open = np.array(autocorr_open)\n",
    "plt.plot(autocorr_open)"
   ]
  },
  {
   "cell_type": "code",
   "execution_count": 55,
   "metadata": {},
   "outputs": [],
   "source": [
    "close_price = np.array(df[\"Close\"])\n",
    "close_price_mean = np.mean(close_price)"
   ]
  },
  {
   "cell_type": "code",
   "execution_count": 56,
   "metadata": {},
   "outputs": [
    {
     "data": {
      "text/plain": [
       "[<matplotlib.lines.Line2D at 0x266c3bb7e48>]"
      ]
     },
     "execution_count": 56,
     "metadata": {},
     "output_type": "execute_result"
    },
    {
     "data": {
      "image/png": "[encoded data removed]",
      "text/plain": [
       "<Figure size 432x288 with 1 Axes>"
      ]
     },
     "metadata": {
      "needs_background": "light"
     },
     "output_type": "display_data"
    }
   ],
   "source": [
    "autocorr_close = []\n",
    "for i in range(150):\n",
    "    autocorr_close.append(autocorr(i,close_price,close_price_mean))\n",
    "autocorr_open = np.array(autocorr_close)\n",
    "plt.plot(autocorr_close)"
   ]
  },
  {
   "cell_type": "code",
   "execution_count": null,
   "metadata": {},
   "outputs": [],
   "source": []
  }
 ],
 "metadata": {
  "kernelspec": {
   "display_name": "Python 3",
   "language": "python",
   "name": "python3"
  },
  "language_info": {
   "codemirror_mode": {
    "name": "ipython",
    "version": 3
   },
   "file_extension": ".py",
   "mimetype": "text/x-python",
   "name": "python",
   "nbconvert_exporter": "python",
   "pygments_lexer": "ipython3",
   "version": "3.8.12"
  }
 },
 "nbformat": 4,
 "nbformat_minor": 4
}
